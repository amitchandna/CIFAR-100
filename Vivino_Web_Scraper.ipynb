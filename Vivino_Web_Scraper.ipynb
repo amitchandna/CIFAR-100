{
 "cells": [
  {
   "cell_type": "code",
   "execution_count": 7,
   "metadata": {},
   "outputs": [],
   "source": [
    "from bs4 import BeautifulSoup\n",
    "import requests\n",
    "import pandas as pd\n",
    "import numpy as np\n",
    "import seaborn as sns\n",
    "from time import time, sleep\n",
    "from tqdm import tqdm\n",
    "from selenium import webdriver"
   ]
  },
  {
   "cell_type": "code",
   "execution_count": 8,
   "metadata": {},
   "outputs": [],
   "source": [
    "#The two cases that will be investigated - both red and white wines - the scrape will be the same for each of these wines.\n",
    "url_red = 'https://www.vivino.com/explore?e=eJwNyTEOgCAMBdDb_BlMHLu5cQRjTMVKSARMIai31-UtLylZpJjJIPFDw2gM_EuTg_9xuP4OB3XWKI1PlI2UW8yhrtxFOQgK7VI97jYvZD8CTBqd&cart_item_source=nav-explore'\n",
    "url_white = 'https://www.vivino.com/explore?e=eJwNyTEOgCAMBdDb_BlMHLu5cQRjTMVKSARMIai31-UtLylZpJhpROKHrDEG_qXJwf84XH-HgzprlMYnykbKLeZQV-6iHASFdqked5sXGj4CLxqd&cart_item_source=nav-explore'\n",
    "\n",
    "#Create the features of the dataframe that will be taken\n",
    "name = []\n",
    "country = []\n",
    "region = []\n",
    "winery = []\n",
    "price = []\n",
    "rating = []"
   ]
  },
  {
   "cell_type": "code",
   "execution_count": 54,
   "metadata": {},
   "outputs": [
    {
     "name": "stderr",
     "output_type": "stream",
     "text": [
      "100%|██████████| 9/9 [00:02<00:00,  3.98it/s]\n"
     ]
    }
   ],
   "source": [
    "#The web scraper\n",
    "for i in tqdm(range(1,10,1)):\n",
    "    foo = url_red.format(i)\n",
    "    red = requests.get(foo)\n",
    "    soup = BeautifulSoup(red.text, 'html.parser')\n",
    "    for item in soup.find_all('div', attrs = {'class':'explorerCard__explorerCard--3Q7_0 explorerPageResults__explorerCard--3q6Qe'}):\n",
    "        try:\n",
    "            name.append(item.find('span', attrs = {'class': 'vintageTitle__winery--2YoIr'}))\n",
    "        except:\n",
    "            name.append('foo')\n",
    "        try:\n",
    "            country.append(item.find('a', attrs = {'href':'anchor__anchor--2QZvA vintageLocation__anchor--T7J3k'}))\n",
    "        except:\n",
    "            country.append(np.nan)\n",
    "            \n",
    "df = pd.DataFrame({'Name': name})"
   ]
  },
  {
   "cell_type": "code",
   "execution_count": 56,
   "metadata": {},
   "outputs": [
    {
     "data": {
      "text/plain": [
       "\"Your IP address (94.147.134.124) has been temporarily blocked for exceeding bulk request limits. If you believe this was done in error or you have legitimate needs to access our pages and data above and beyond these limits please contact admin@vivino.com with the subject 'Requests Blocked' and we'll try and resolve the issue.\""
      ]
     },
     "execution_count": 56,
     "metadata": {},
     "output_type": "execute_result"
    }
   ],
   "source": [
    "soup.text"
   ]
  },
  {
   "cell_type": "code",
   "execution_count": null,
   "metadata": {},
   "outputs": [],
   "source": []
  },
  {
   "cell_type": "code",
   "execution_count": null,
   "metadata": {},
   "outputs": [],
   "source": []
  },
  {
   "cell_type": "code",
   "execution_count": null,
   "metadata": {},
   "outputs": [],
   "source": []
  }
 ],
 "metadata": {
  "kernelspec": {
   "display_name": "Python 3",
   "language": "python",
   "name": "python3"
  },
  "language_info": {
   "codemirror_mode": {
    "name": "ipython",
    "version": 3
   },
   "file_extension": ".py",
   "mimetype": "text/x-python",
   "name": "python",
   "nbconvert_exporter": "python",
   "pygments_lexer": "ipython3",
   "version": "3.7.6"
  }
 },
 "nbformat": 4,
 "nbformat_minor": 4
}
